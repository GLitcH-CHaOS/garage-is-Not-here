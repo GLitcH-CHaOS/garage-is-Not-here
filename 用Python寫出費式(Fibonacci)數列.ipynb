{
  "nbformat": 4,
  "nbformat_minor": 0,
  "metadata": {
    "colab": {
      "name": "用Python寫出費式(Fibonacci)數列",
      "provenance": [],
      "authorship_tag": "ABX9TyO+eheILJ0z1NHhCpr+ll3D",
      "include_colab_link": true
    },
    "kernelspec": {
      "name": "python3",
      "display_name": "Python 3"
    }
  },
  "cells": [
    {
      "cell_type": "markdown",
      "metadata": {
        "id": "view-in-github",
        "colab_type": "text"
      },
      "source": [
        "<a href=\"https://colab.research.google.com/github/GLitcH-CHaOS/garage-is-Not-here/blob/master/%E7%94%A8Python%E5%AF%AB%E5%87%BA%E8%B2%BB%E5%BC%8F(Fibonacci)%E6%95%B8%E5%88%97.ipynb\" target=\"_parent\"><img src=\"https://colab.research.google.com/assets/colab-badge.svg\" alt=\"Open In Colab\"/></a>"
      ]
    },
    {
      "cell_type": "code",
      "metadata": {
        "id": "3Dc-lWm4NxzO",
        "outputId": "c2417081-0b20-41b7-9707-d7b850d7d93d",
        "colab": {
          "base_uri": "https://localhost:8080/",
          "height": 51
        }
      },
      "source": [
        "fibs = [0,1]\n",
        "num = int(10)\n",
        "for i in range(num-2):\n",
        "  fibs.append(fibs[-2]+fibs[-1])\n",
        "print('前十個數字',fibs)\n",
        "fibs = [2,2]\n",
        "num = int(12)\n",
        "for i in range(12):\n",
        "  fibs.append(fibs[-2]+fibs[-1])\n",
        "print('第十二個月的兔子數量',fibs[13])\n"
      ],
      "execution_count": 32,
      "outputs": [
        {
          "output_type": "stream",
          "text": [
            "前十個數字 [0, 1, 1, 2, 3, 5, 8, 13, 21, 34]\n",
            "第十二個月的兔子數量 754\n"
          ],
          "name": "stdout"
        }
      ]
    }
  ]
}