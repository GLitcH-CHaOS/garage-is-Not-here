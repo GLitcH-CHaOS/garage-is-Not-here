{
  "nbformat": 4,
  "nbformat_minor": 0,
  "metadata": {
    "colab": {
      "name": "Untitled0.ipynb",
      "provenance": [],
      "authorship_tag": "ABX9TyO+eheILJ0z1NHhCpr+ll3D",
      "include_colab_link": true
    },
    "kernelspec": {
      "name": "python3",
      "display_name": "Python 3"
    }
  },
  "cells": [
    {
      "cell_type": "markdown",
      "metadata": {
        "id": "view-in-github",
        "colab_type": "text"
      },
      "source": [
        "<a href=\"https://colab.research.google.com/github/GLitcH-CHaOS/garage-is-Not-here/blob/master/Untitled0.ipynb\" target=\"_parent\"><img src=\"https://colab.research.google.com/assets/colab-badge.svg\" alt=\"Open In Colab\"/></a>"
      ]
    },
    {
      "cell_type": "code",
      "metadata": {
        "id": "3Dc-lWm4NxzO",
        "outputId": "c2417081-0b20-41b7-9707-d7b850d7d93d",
        "colab": {
          "base_uri": "https://localhost:8080/",
          "height": 51
        }
      },
      "source": [
        "fibs = [0,1]\n",
        "num = int(10)\n",
        "for i in range(num-2):\n",
        "  fibs.append(fibs[-2]+fibs[-1])\n",
        "print('前十個數字',fibs)\n",
        "fibs = [2,2]\n",
        "num = int(12)\n",
        "for i in range(12):\n",
        "  fibs.append(fibs[-2]+fibs[-1])\n",
        "print('第十二個月的兔子數量',fibs[13])\n"
      ],
      "execution_count": 32,
      "outputs": [
        {
          "output_type": "stream",
          "text": [
            "前十個數字 [0, 1, 1, 2, 3, 5, 8, 13, 21, 34]\n",
            "第十二個月的兔子數量 754\n"
          ],
          "name": "stdout"
        }
      ]
    }
  ]
}